{
  "nbformat": 4,
  "nbformat_minor": 0,
  "metadata": {
    "colab": {
      "provenance": [],
      "authorship_tag": "ABX9TyOfaAhQBRtdeKOQY5QssG9D",
      "include_colab_link": true
    },
    "kernelspec": {
      "name": "python3",
      "display_name": "Python 3"
    },
    "language_info": {
      "name": "python"
    }
  },
  "cells": [
    {
      "cell_type": "markdown",
      "metadata": {
        "id": "view-in-github",
        "colab_type": "text"
      },
      "source": [
        "<a href=\"https://colab.research.google.com/github/PoorneshShiva/Deep-learning-assigments/blob/main/Prep.ipynb\" target=\"_parent\"><img src=\"https://colab.research.google.com/assets/colab-badge.svg\" alt=\"Open In Colab\"/></a>"
      ]
    },
    {
      "cell_type": "code",
      "execution_count": 19,
      "metadata": {
        "id": "vBSlgJ6W9_rm"
      },
      "outputs": [],
      "source": [
        "import zipfile\n",
        "import requests\n",
        "\n",
        "def download_data_and_extract(\n",
        "                link:str = \"\",\n",
        "                output_name:str = \"animal.zip\",\n",
        "                extracted_dir:str = \"temp\"\n",
        "                ):\n",
        "    \"\"\" Download and extract the link to the output name.\n",
        "\n",
        "    Arguments:\n",
        "      - link: Link to download the data\n",
        "      - output_name: the file name to save the data\n",
        "\n",
        "    Returns:\n",
        "      - bool: If the data was downloaded and extracted\n",
        "\n",
        "    \"\"\"\n",
        "    try:\n",
        "        response = requests.get(link, stream=True)\n",
        "    except requests.exceptions.RequestException as oops:\n",
        "        print(f\"Error downloading the data: {oops}\")\n",
        "        return False\n",
        "\n",
        "    if response.status_code != 200:\n",
        "        message = \"Failed to download the data. Status code: \"\n",
        "        message += response.status_code\n",
        "        print(message)\n",
        "        return False\n",
        "\n",
        "    try:\n",
        "        with open(output_name, \"wb\") as file:\n",
        "            for chunk in response.iter_content(chunk_size=8192):\n",
        "                file.write(chunk)\n",
        "    except Exception as oops:\n",
        "        print(f\"Error saving the data: {oops}\")\n",
        "        return False\n",
        "\n",
        "    try:\n",
        "        with zipfile.ZipFile(output_name, 'r') as zip_ref:\n",
        "            zip_ref.extractall(extracted_dir)\n",
        "    except Exception as oops:\n",
        "        print(f\"Error extracting the data: {oops}\")\n",
        "        return False\n",
        "\n",
        "    print(f\"Data downloaded and extracted to 'temp' directory.\")\n",
        "    return True\n"
      ]
    },
    {
      "cell_type": "code",
      "source": [
        "download_data_and_extract(\n",
        "    link=\"https://storage.googleapis.com/adsa-data/animal-classification/animal.zip\",\n",
        "    output_name=\"animal.zip\"\n",
        ")"
      ],
      "metadata": {
        "colab": {
          "base_uri": "https://localhost:8080/"
        },
        "id": "WvIofVvz-W-W",
        "outputId": "b21321d2-4653-4e63-8c39-9cea740b6ea6"
      },
      "execution_count": 12,
      "outputs": [
        {
          "output_type": "stream",
          "name": "stdout",
          "text": [
            "Data downloaded and extracted to 'temp' directory.\n"
          ]
        }
      ]
    },
    {
      "cell_type": "code",
      "source": [],
      "metadata": {
        "id": "syXokDEJ-lzC"
      },
      "execution_count": null,
      "outputs": []
    }
  ]
}