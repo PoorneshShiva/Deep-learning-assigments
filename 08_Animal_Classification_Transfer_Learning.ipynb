{
  "nbformat": 4,
  "nbformat_minor": 0,
  "metadata": {
    "colab": {
      "provenance": [],
      "gpuType": "T4",
      "include_colab_link": true
    },
    "kernelspec": {
      "name": "python3",
      "display_name": "Python 3"
    },
    "language_info": {
      "name": "python"
    },
    "accelerator": "GPU"
  },
  "cells": [
    {
      "cell_type": "markdown",
      "metadata": {
        "id": "view-in-github",
        "colab_type": "text"
      },
      "source": [
        "<a href=\"https://colab.research.google.com/github/PoorneshShiva/Deep-learning-assigments/blob/main/08_Animal_Classification_Transfer_Learning.ipynb\" target=\"_parent\"><img src=\"https://colab.research.google.com/assets/colab-badge.svg\" alt=\"Open In Colab\"/></a>"
      ]
    },
    {
      "cell_type": "code",
      "source": [
        "import tensorflow as tf\n",
        "print(tf.__version__)"
      ],
      "metadata": {
        "id": "GQXM97MxaMFW",
        "outputId": "a620e4cf-80b2-43f0-8952-46d0e522c426",
        "colab": {
          "base_uri": "https://localhost:8080/"
        }
      },
      "execution_count": 2,
      "outputs": [
        {
          "output_type": "stream",
          "name": "stdout",
          "text": [
            "2.17.1\n"
          ]
        }
      ]
    },
    {
      "cell_type": "markdown",
      "source": [
        "# Animal Classification"
      ],
      "metadata": {
        "id": "x_SVh0y1-DtS"
      }
    },
    {
      "cell_type": "code",
      "source": [
        "# TODO: Download datasets\n",
        "!wget https://storage.googleapis.com/adsa-data/animal-classification/animal.zip\n",
        "!unzip animal.zip -d temp"
      ],
      "metadata": {
        "id": "-xt7c3nJVM3_",
        "outputId": "4e76a032-0d93-4a77-bea8-3e5a0f7f7695",
        "colab": {
          "base_uri": "https://localhost:8080/"
        }
      },
      "execution_count": null,
      "outputs": [
        {
          "output_type": "stream",
          "name": "stdout",
          "text": [
            "--2024-12-01 19:55:38--  https://storage.googleapis.com/adsa-data/animal-classification/animal.zip\n",
            "Resolving storage.googleapis.com (storage.googleapis.com)... 74.125.68.207, 142.251.175.207, 142.251.10.207, ...\n",
            "Connecting to storage.googleapis.com (storage.googleapis.com)|74.125.68.207|:443... connected.\n",
            "HTTP request sent, awaiting response... 200 OK\n",
            "Length: 570445498 (544M) [application/zip]\n",
            "Saving to: ‘animal.zip’\n",
            "\n",
            "animal.zip           64%[===========>        ] 351.75M  11.8MB/s    eta 18s    "
          ]
        }
      ]
    },
    {
      "cell_type": "code",
      "source": [
        "!mkdir -p data/dog\n",
        "!mkdir -p data/cat\n",
        "!cp temp/train/dog.* data/dog/\n",
        "!cp temp/train/cat.* data/cat/"
      ],
      "metadata": {
        "id": "qwxzP1gzaP7z"
      },
      "execution_count": null,
      "outputs": []
    },
    {
      "cell_type": "code",
      "source": [
        "import os\n",
        "\n",
        "dog_count = len(os.listdir(\"./data/dog\"))\n",
        "cat_count = len(os.listdir(\"./data/cat\"))\n",
        "print(\"Dog pictures: \", dog_count)\n",
        "print(\"Cat pictures: \", cat_count)"
      ],
      "metadata": {
        "id": "gdzxgDILaQu6"
      },
      "execution_count": null,
      "outputs": []
    },
    {
      "cell_type": "markdown",
      "source": [
        "## Data Preparation"
      ],
      "metadata": {
        "id": "nLL7dwdC-Yef"
      }
    },
    {
      "cell_type": "code",
      "source": [
        "IMAGE_WIDTH=150\n",
        "IMAGE_HEIGHT=150\n",
        "IMAGE_SIZE=(IMAGE_WIDTH, IMAGE_HEIGHT)\n",
        "BATCH_SIZE=32"
      ],
      "metadata": {
        "id": "dEBl5A6AEsFN"
      },
      "execution_count": null,
      "outputs": []
    },
    {
      "cell_type": "code",
      "source": [
        "# TODO: Split and load datasets\n",
        "import PIL\n",
        "import PIL.Image\n",
        "import tensorflow as tf\n",
        "import tensorflow_datasets as tfds\n",
        "\n",
        "# TODO Use tf.keras.utils.image_dataset_from_directory to assign 80% images to the train dataset\n",
        "(train_ds, val_ds) = tf.keras.utils.image_dataset_from_directory(\n",
        "    \"./data\",\n",
        "    validation_split=0.2,\n",
        "    subset=\"both\",\n",
        "    seed=123,\n",
        "    image_size=IMAGE_SIZE,\n",
        "    batch_size=BATCH_SIZE\n",
        ")"
      ],
      "metadata": {
        "id": "TfLFkWaXWKso"
      },
      "execution_count": null,
      "outputs": []
    },
    {
      "cell_type": "code",
      "source": [
        "class_names = train_ds.class_names\n",
        "print(class_names)"
      ],
      "metadata": {
        "id": "XRCWMfJnWy0T"
      },
      "execution_count": null,
      "outputs": []
    },
    {
      "cell_type": "code",
      "source": [
        "# TODO: Plot some images along with their labels\n",
        "import matplotlib.pyplot as plt\n",
        "\n",
        "plt.figure(figsize=(10, 10))\n",
        "for images, labels in val_ds.take(1):\n",
        "  for i in range(9):\n",
        "    ax = plt.subplot(3, 3, i + 1)\n",
        "    plt.imshow(images[i].numpy().astype(\"uint8\"))\n",
        "    plt.title(class_names[labels[i]])\n",
        "    plt.axis(\"off\")"
      ],
      "metadata": {
        "id": "-uSpBN2ZY_J8"
      },
      "execution_count": null,
      "outputs": []
    },
    {
      "cell_type": "code",
      "source": [
        "# TODO: Set cache for datasets\n",
        "AUTOTUNE = tf.data.AUTOTUNE\n",
        "\n",
        "train_ds = train_ds.cache().prefetch(buffer_size=AUTOTUNE)\n",
        "val_ds = val_ds.cache().prefetch(buffer_size=AUTOTUNE)"
      ],
      "metadata": {
        "id": "PspIbHZFaewU"
      },
      "execution_count": null,
      "outputs": []
    },
    {
      "cell_type": "markdown",
      "source": [
        "## Model Preparation"
      ],
      "metadata": {
        "id": "zbI0jizy-OCe"
      }
    },
    {
      "cell_type": "code",
      "source": [
        "import tensorflow as tf\n",
        "from tensorflow import keras\n",
        "\n",
        "model = tf.keras.models.Sequential()\n",
        "\n",
        "# TODO: Load EfficientNetB7 model with pretrained weights\n",
        "# but without the fully-connected layer at the top.\n",
        "# We want to add our own FC layers and outputs\n",
        "base = tf.keras.applications.EfficientNetB7(\n",
        "    include_top=False,\n",
        "    weights=\"imagenet\",\n",
        "    input_shape=(IMAGE_WIDTH, IMAGE_HEIGHT, 3),\n",
        ")\n",
        "model.add(base)\n",
        "\n",
        "model.add(tf.keras.layers.GlobalAveragePooling2D())\n",
        "\n",
        "model.add(tf.keras.layers.Dropout(0.2))\n",
        "\n",
        "model.add(tf.keras.layers.Dense(1, activation=\"sigmoid\"))\n",
        "\n",
        "model.trainable = True\n",
        "\n",
        "base.trainable = False\n",
        "\n",
        "for layer in model.layers:\n",
        "    print(layer.name, ' ', layer.trainable)\n",
        "\n",
        "model.compile(\n",
        "    optimizer=keras.optimizers.Adam(),\n",
        "    loss=\"binary_crossentropy\",\n",
        "    metrics=[\"accuracy\"],\n",
        ")\n",
        "\n",
        "model.summary()"
      ],
      "metadata": {
        "id": "9xZAw1hrXxC3"
      },
      "execution_count": null,
      "outputs": []
    },
    {
      "cell_type": "markdown",
      "source": [
        "## Training"
      ],
      "metadata": {
        "id": "U-rXqkBt-QfB"
      }
    },
    {
      "cell_type": "code",
      "source": [
        "# TODO: Train model for 1 epoch\n",
        "model.fit(x=train_ds,validation_data=val_ds,epochs=1)"
      ],
      "metadata": {
        "id": "RJ5o-4pxYH5Y"
      },
      "execution_count": null,
      "outputs": []
    },
    {
      "cell_type": "markdown",
      "source": [
        "## Testing"
      ],
      "metadata": {
        "id": "66MHVV5n-R51"
      }
    },
    {
      "cell_type": "code",
      "source": [
        "# TODO: Load test set\n",
        "!wget https://storage.googleapis.com/adsa-data/animal-classification/test.zip\n",
        "!unzip test.zip\n"
      ],
      "metadata": {
        "colab": {
          "base_uri": "https://localhost:8080/"
        },
        "id": "WrRXqRnOvxKW",
        "outputId": "c75994cf-39d0-4ba1-d339-43d20f6428ac"
      },
      "execution_count": null,
      "outputs": [
        {
          "output_type": "stream",
          "name": "stdout",
          "text": [
            "/usr/local/lib/python3.7/dist-packages/gdown/cli.py:131: FutureWarning: Option `--id` was deprecated in version 4.3.1 and will be removed in 5.0. You don't need to pass it anymore to use a file ID.\n",
            "  category=FutureWarning,\n",
            "Downloading...\n",
            "From: https://drive.google.com/uc?id=1AD_I129zEshKO_LgLkDjOyLUbc51L6GB\n",
            "To: /content/animal-test.zip\n",
            "100% 65.4k/65.4k [00:00<00:00, 62.8MB/s]\n",
            "Archive:  animal-test.zip\n",
            "  inflating: test/cat1.jpg           \n",
            "  inflating: test/cat2.jpg           \n",
            "  inflating: test/cat3.jpg           \n",
            "  inflating: test/dog1.jpg           \n",
            "  inflating: test/dog2.jpg           \n",
            "  inflating: test/dog3.jpg           \n",
            "  inflating: test/dog4.jpg           \n"
          ]
        }
      ]
    },
    {
      "cell_type": "code",
      "source": [
        "test_ds = tf.keras.utils.image_dataset_from_directory(\n",
        "    \"./test\",\n",
        "    seed=123,\n",
        "    image_size=IMAGE_SIZE,\n",
        "    batch_size=BATCH_SIZE\n",
        ")"
      ],
      "metadata": {
        "id": "QizakqYPfu1I"
      },
      "execution_count": null,
      "outputs": []
    },
    {
      "cell_type": "code",
      "source": [
        "# TODO: Retry again with downloaded images\n",
        "model.predict(test_ds[0])"
      ],
      "metadata": {
        "colab": {
          "base_uri": "https://localhost:8080/",
          "height": 286
        },
        "id": "fw9sTmDlIvpK",
        "outputId": "e0b28dba-712c-4198-e51c-f53214d6bcf1"
      },
      "execution_count": null,
      "outputs": [
        {
          "output_type": "stream",
          "name": "stdout",
          "text": [
            "dog: 98.87%\n"
          ]
        },
        {
          "output_type": "display_data",
          "data": {
            "text/plain": [
              "<Figure size 432x288 with 1 Axes>"
            ],
            "image/png": "[encoded data removed]"
          },
          "metadata": {
            "needs_background": "light"
          }
        }
      ]
    },
    {
      "cell_type": "markdown",
      "source": [
        "#### Test any image\n"
      ],
      "metadata": {
        "id": "eel0CeUlyVlI"
      }
    },
    {
      "cell_type": "code",
      "source": [
        "import numpy as np\n",
        "\n",
        "image_path = 'test/dog1.jpg'\n",
        "\n",
        "image = tf.keras.utils.load_img(image_path, target_size=(IMAGE_WIDTH, IMAGE_HEIGHT))\n",
        "\n",
        "image_array = tf.keras.utils.img_to_array(image)\n",
        "\n",
        "# Normalize the pixel values to [0, 1]\n",
        "image_array = image_array / 255.0\n",
        "\n",
        "# Add batch dimension\n",
        "image_array = np.expand_dims(image_array, axis=0)  # Shape becomes (1, IMAGE_WIDTH, IMAGE_HEIGHT, 3)\n"
      ],
      "metadata": {
        "id": "DEBzN6sPyUfb"
      },
      "execution_count": null,
      "outputs": []
    },
    {
      "cell_type": "code",
      "source": [
        "from tensorflow.keras.preprocessing import image\n",
        "img_path = 'test/cat1.jpg'\n",
        "img = image.load_img(img_path, target_size=IMAGE_SIZE)\n",
        "img_array = image.img_to_array(img)\n"
      ],
      "metadata": {
        "id": "pHwG-Gg9h_zD"
      },
      "execution_count": null,
      "outputs": []
    },
    {
      "cell_type": "code",
      "source": [
        "predicted_image = model.predict(img_array)"
      ],
      "metadata": {
        "id": "iVU5u3yDkCHi"
      },
      "execution_count": null,
      "outputs": []
    },
    {
      "cell_type": "code",
      "source": [
        "model.predict(img_array)\n",
        "import matplotlib.pyplot as plt\n",
        "\n",
        "plt.imshow(img)\n",
        "plt.title(f\"dog: \")\n",
        "plt.show()"
      ],
      "metadata": {
        "id": "AN8uE72aiZDF"
      },
      "execution_count": null,
      "outputs": []
    }
  ]
}